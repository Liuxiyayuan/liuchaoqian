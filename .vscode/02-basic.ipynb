{
 "cells": [
  {
   "cell_type": "code",
   "execution_count": null,
   "metadata": {},
   "outputs": [],
   "source": [
    "print('真的好讨厌python')\n"
   ]
  }
 ],
 "metadata": {
  "kernelspec": {
   "display_name": "Python 3.8.10 64-bit",
   "language": "python",
   "name": "python3"
  },
  "language_info": {
   "name": "python",
   "version": "3.8.10"
  },
  "orig_nbformat": 4,
  "vscode": {
   "interpreter": {
    "hash": "3d8ea4b2b7499c7d59464f8e2b375a47753208f404652f3dfa31d8dd12de34a0"
   }
  }
 },
 "nbformat": 4,
 "nbformat_minor": 2
}
