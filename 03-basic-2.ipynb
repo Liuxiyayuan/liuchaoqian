{
 "cells": [
  {
   "cell_type": "code",
   "execution_count": 2,
   "metadata": {},
   "outputs": [
    {
     "name": "stdout",
     "output_type": "stream",
     "text": [
      "3+2= 5\n",
      "3-2= 1\n",
      "3*2= 6\n",
      "3/2= 1.5\n",
      "3//2= 1\n"
     ]
    }
   ],
   "source": [
    "print(\"3+2=\",str(3+2))\n",
    "print('3-2=',str(3-2))\n",
    "print('3*2=',str(3*2))\n",
    "print('3/2=',str(3/2))\n",
    "print('3//2=',str(3//2))\n",
    "#'//'运算符会保留余数"
   ]
  },
  {
   "cell_type": "code",
   "execution_count": 3,
   "metadata": {},
   "outputs": [
    {
     "data": {
      "text/plain": [
       "1"
      ]
     },
     "execution_count": 3,
     "metadata": {},
     "output_type": "execute_result"
    }
   ],
   "source": [
    "count=0\n",
    "count+=1\n",
    "count"
   ]
  },
  {
   "cell_type": "code",
   "execution_count": 6,
   "metadata": {},
   "outputs": [
    {
     "name": "stdout",
     "output_type": "stream",
     "text": [
      "在家睡觉\n"
     ]
    }
   ],
   "source": [
    "天气='下雨'\n",
    "\n",
    "if 天气 == '下雨' :\n",
    "  print('在家睡觉')\n",
    "else:\n",
    "  print('出去玩')"
   ]
  }
 ],
 "metadata": {
  "kernelspec": {
   "display_name": "base",
   "language": "python",
   "name": "python3"
  },
  "language_info": {
   "codemirror_mode": {
    "name": "ipython",
    "version": 3
   },
   "file_extension": ".py",
   "mimetype": "text/x-python",
   "name": "python",
   "nbconvert_exporter": "python",
   "pygments_lexer": "ipython3",
   "version": "3.9.7"
  },
  "orig_nbformat": 4
 },
 "nbformat": 4,
 "nbformat_minor": 2
}
