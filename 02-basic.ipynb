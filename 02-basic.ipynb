{
 "cells": [
  {
   "cell_type": "code",
   "execution_count": 1,
   "metadata": {},
   "outputs": [
    {
     "name": "stdout",
     "output_type": "stream",
     "text": [
      "这是一个python程序，希望它变得简单点\n"
     ]
    }
   ],
   "source": [
    "print('这是一个python程序，希望它变得简单点')"
   ]
  },
  {
   "cell_type": "code",
   "execution_count": 2,
   "metadata": {},
   "outputs": [
    {
     "name": "stdout",
     "output_type": "stream",
     "text": [
      "初始资金100000 <class 'int'>\n",
      "现有资金99866 <class 'int'>\n"
     ]
    }
   ],
   "source": [
    "#以下是对变量的联系\n",
    "\n",
    "#数字类型\n",
    "money=100000\n",
    "print('初始资金'+str(money),type(money))\n",
    "money=money-134\n",
    "print('现有资金'+str(money),type(money))\n"
   ]
  },
  {
   "cell_type": "code",
   "execution_count": 3,
   "metadata": {},
   "outputs": [
    {
     "name": "stdout",
     "output_type": "stream",
     "text": [
      "<class 'tuple'>\n",
      "<class 'list'>\n",
      "<class 'set'>\n"
     ]
    }
   ],
   "source": [
    "#其他类型\n",
    "a=(1,2,3)\n",
    "print(type(a))\n",
    "b=[1,2,3]\n",
    "print(type(b))\n",
    "c={1,2,3}\n",
    "print(type(c))\n",
    "d={'姓名':'小明','性别':'男'}\n"
   ]
  },
  {
   "cell_type": "code",
   "execution_count": 5,
   "metadata": {},
   "outputs": [
    {
     "name": "stdout",
     "output_type": "stream",
     "text": [
      "python老师最牛的是python的大招运用技巧\n"
     ]
    }
   ],
   "source": [
    "#字符串\n",
    "#字符串是一种序列\n",
    "tittle='python老师'\n",
    "skill='python的大招运用技巧'\n",
    "print(tittle+'最牛的是'+skill)"
   ]
  },
  {
   "cell_type": "markdown",
   "metadata": {},
   "source": []
  }
 ],
 "metadata": {
  "kernelspec": {
   "display_name": "base",
   "language": "python",
   "name": "python3"
  },
  "language_info": {
   "codemirror_mode": {
    "name": "ipython",
    "version": 3
   },
   "file_extension": ".py",
   "mimetype": "text/x-python",
   "name": "python",
   "nbconvert_exporter": "python",
   "pygments_lexer": "ipython3",
   "version": "3.9.7"
  },
  "orig_nbformat": 4
 },
 "nbformat": 4,
 "nbformat_minor": 2
}
