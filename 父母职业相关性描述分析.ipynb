{
 "cells": [
  {
   "cell_type": "code",
   "execution_count": 8,
   "metadata": {},
   "outputs": [],
   "source": [
    "import pandas as pd\n",
    "import numpy as np\n",
    "import matplotlib.pyplot as plt\n",
    "import mytools\n",
    "import seaborn as sns"
   ]
  },
  {
   "cell_type": "code",
   "execution_count": 9,
   "metadata": {},
   "outputs": [
    {
     "name": "stdout",
     "output_type": "stream",
     "text": [
      "<bound method NDFrame.describe of               父亲工作 父亲职业编码信息           母亲工作 母亲职业编码信息\n",
      "0     中铁六局太原铁路建设公司       国企    鑫智点交通设施有限公司       民企\n",
      "1       凯信会议服务有限公司       民企  长城国际旅行社有限责任公司       民企\n",
      "2       银光聚银化工有限公司       民企        九亩花田蛋糕店      个体户\n",
      "3       元拓科技咨询有限公司       民企   中国平安财险股份有限公司       民企\n",
      "4          市广播电视大学      事业编          市实验中学      事业编\n",
      "5         市经济合作局\\n      事业编      县住房保障中心\\n      事业编\n",
      "6          区建豪汽修中心      个体户           家庭主妇       无业\n",
      "7          区建豪汽修中心      个体户           家庭主妇       无业\n",
      "8     陕西省水利水电第三工程局       国企           二十一冶       国企\n",
      "9   渭源陇原恒新畜牧科技有限公司       国企      XX路街道诚信社区      事业编\n",
      "10            市民政局      事业编       矿冶职业技术学院      事业编\n",
      "11   北京路九洋菜市场刘伟鲜面店      个体户  北京路九洋菜市场刘伟鲜面店      个体户\n",
      "12         市第一人民医院      事业编  公路应急保障与路网监测中心      事业编\n",
      "13          市农业农村局      事业编           市委编办      事业编\n",
      "14           老姐饺子馆      个体户           家庭主妇       无业\n",
      "15       大市场清华电动工具       民企           家庭主妇       无业\n",
      "16            市统计局      事业编             个体      个体户\n",
      "17         盛泰房地产公司       民企           家庭主妇       无业\n",
      "18         盛泰房地产公司       民企           家庭主妇       无业\n",
      "19  县瑞金路锦辉消防工程有限公司       国企           家庭主妇       无业\n",
      "20      市农业综合行政执法队      事业编     宏信房地资产评估公司       民企\n",
      "21      大禹工程咨询有限公司       国企         纺织路街道办      事业编\n",
      "22         市中级人民法院      事业编       农行XXX县支行      事业编\n",
      "23            家庭父亲      个体户    白银区公园路街道办事处      事业编\n",
      "24            市旅游局      事业编         大自然旅行社       民企\n",
      "25            陇风巢浴      个体户           凤巢浴足      个体户\n",
      "26          XXX镇政府      事业编      美年大健康有限公司       民企\n",
      "27             市团委      事业编         区应急管理局      事业编\n",
      "28  万盛体能拓展中心鑫多米便利店      个体户         北门流觞烟酒      个体户\n",
      "29            市公安局      事业编          区人民法院      事业编\n",
      "30            家庭父母       无业           家庭父母       无业\n",
      "31             公安局      事业编   市给排水（集团）有限公司      事业编\n",
      "32           西区管委会      事业编           市人社局      事业编\n",
      "33            市住建局      事业编         市科学技术局      事业编\n",
      "34          XXX建设局       国企          区住建局       事业编\n",
      "35       银中源工贸有限公司       民企           家庭主妇       无业\n",
      "36          广东省中海油       国企           家庭主妇       无业\n",
      "37          娟红杂粮食府      个体户         娟红杂粮食府      个体户\n",
      "38           市政管理处      事业编         区妇幼保健站      事业编\n",
      "39     中国兵器工业公司三冶炼       国企              无       无业\n",
      "40      万民工程建设有限公司       民企     新疆省和田市个体药店      个体户\n",
      "41            市公安局      事业编        省第三人民医院      事业编\n",
      "42            省监狱局      事业编          区人民法院      事业编\n",
      "43            家庭主妇       无业           家庭主妇       无业\n",
      "44   江苏路之久工程建设有限公司       民企           家庭主妇       无业\n",
      "45            市财政局      事业编           市教育局      事业编\n",
      "46            市财政局      事业编        泰安学校教职工      事业编\n",
      "47            瑞禾农资       国企          市委统战部      事业编\n",
      "48             市纪委      事业编       市公安局交警支队      事业编\n",
      "49             市委办      事业编           市审计局      事业编\n",
      "50     第十一中学北侧校园书店      个体户         顶新文化公司       民企\n",
      "51            长通公司       民企          市育才学校      事业编\n",
      "52            市住建局      事业编         区融媒体中心      事业编>\n"
     ]
    }
   ],
   "source": [
    "date = pd.read_csv(R'data\\类别变量练习数据.csv',encoding='GBK')\n",
    "print(date.describe)"
   ]
  },
  {
   "cell_type": "code",
   "execution_count": 10,
   "metadata": {},
   "outputs": [
    {
     "data": {
      "text/plain": [
       "<function matplotlib.pyplot.show(close=None, block=None)>"
      ]
     },
     "execution_count": 10,
     "metadata": {},
     "output_type": "execute_result"
    },
    {
     "data": {
      "image/png": "[encoded data removed]",
      "text/plain": [
       "<Figure size 432x288 with 1 Axes>"
      ]
     },
     "metadata": {},
     "output_type": "display_data"
    }
   ],
   "source": [
    "#父亲职业编码信息一览图\n",
    "def create_pie_chart(x,y):\n",
    "    x = date['父亲职业编码信息'].value_counts().index\n",
    "y = date['父亲职业编码信息'].value_counts(normalize=True)\n",
    "fig, ax1 = plt.subplots()\n",
    "labels = date['父亲职业编码信息'].value_counts().index\n",
    "ax1.pie(y,autopct='%1.1f%%', labels=labels,textprops=dict(color='pink'))\n",
    "plt.show"
   ]
  },
  {
   "cell_type": "code",
   "execution_count": 11,
   "metadata": {},
   "outputs": [
    {
     "data": {
      "text/plain": [
       "<function matplotlib.pyplot.show(close=None, block=None)>"
      ]
     },
     "execution_count": 11,
     "metadata": {},
     "output_type": "execute_result"
    },
    {
     "data": {
      "image/png": "[encoded data removed]",
      "text/plain": [
       "<Figure size 432x288 with 1 Axes>"
      ]
     },
     "metadata": {},
     "output_type": "display_data"
    }
   ],
   "source": [
    "#母亲职业编码表格一览图\n",
    "def create_pie_chart(x,y):\n",
    "    x = date['母亲职业编码信息'].value_counts().index\n",
    "y = date['母亲职业编码信息'].value_counts(normalize=True)\n",
    "fig, ax1 = plt.subplots()\n",
    "labels = date['母亲职业编码信息'].value_counts().index\n",
    "ax1.pie(y,autopct='%1.1f%%', labels=labels,textprops=dict(color='pink'))\n",
    "plt.show"
   ]
  },
  {
   "cell_type": "code",
   "execution_count": 12,
   "metadata": {},
   "outputs": [
    {
     "data": {
      "text/html": [
       "<div>\n",
       "<style scoped>\n",
       "    .dataframe tbody tr th:only-of-type {\n",
       "        vertical-align: middle;\n",
       "    }\n",
       "\n",
       "    .dataframe tbody tr th {\n",
       "        vertical-align: top;\n",
       "    }\n",
       "\n",
       "    .dataframe thead th {\n",
       "        text-align: right;\n",
       "    }\n",
       "</style>\n",
       "<table border=\"1\" class=\"dataframe\">\n",
       "  <thead>\n",
       "    <tr style=\"text-align: right;\">\n",
       "      <th>母亲职业编码信息</th>\n",
       "      <th>个体户</th>\n",
       "      <th>事业编</th>\n",
       "      <th>国企</th>\n",
       "      <th>无业</th>\n",
       "      <th>民企</th>\n",
       "      <th>All</th>\n",
       "    </tr>\n",
       "    <tr>\n",
       "      <th>父亲职业编码信息</th>\n",
       "      <th></th>\n",
       "      <th></th>\n",
       "      <th></th>\n",
       "      <th></th>\n",
       "      <th></th>\n",
       "      <th></th>\n",
       "    </tr>\n",
       "  </thead>\n",
       "  <tbody>\n",
       "    <tr>\n",
       "      <th>个体户</th>\n",
       "      <td>0.571429</td>\n",
       "      <td>0.04</td>\n",
       "      <td>0.0</td>\n",
       "      <td>0.230769</td>\n",
       "      <td>0.142857</td>\n",
       "      <td>0.169811</td>\n",
       "    </tr>\n",
       "    <tr>\n",
       "      <th>事业编</th>\n",
       "      <td>0.142857</td>\n",
       "      <td>0.76</td>\n",
       "      <td>0.0</td>\n",
       "      <td>0.000000</td>\n",
       "      <td>0.428571</td>\n",
       "      <td>0.433962</td>\n",
       "    </tr>\n",
       "    <tr>\n",
       "      <th>国企</th>\n",
       "      <td>0.000000</td>\n",
       "      <td>0.16</td>\n",
       "      <td>1.0</td>\n",
       "      <td>0.230769</td>\n",
       "      <td>0.142857</td>\n",
       "      <td>0.169811</td>\n",
       "    </tr>\n",
       "    <tr>\n",
       "      <th>无业</th>\n",
       "      <td>0.000000</td>\n",
       "      <td>0.00</td>\n",
       "      <td>0.0</td>\n",
       "      <td>0.153846</td>\n",
       "      <td>0.000000</td>\n",
       "      <td>0.037736</td>\n",
       "    </tr>\n",
       "    <tr>\n",
       "      <th>民企</th>\n",
       "      <td>0.285714</td>\n",
       "      <td>0.04</td>\n",
       "      <td>0.0</td>\n",
       "      <td>0.384615</td>\n",
       "      <td>0.285714</td>\n",
       "      <td>0.188679</td>\n",
       "    </tr>\n",
       "  </tbody>\n",
       "</table>\n",
       "</div>"
      ],
      "text/plain": [
       "母亲职业编码信息       个体户   事业编   国企        无业        民企       All\n",
       "父亲职业编码信息                                                   \n",
       "个体户       0.571429  0.04  0.0  0.230769  0.142857  0.169811\n",
       "事业编       0.142857  0.76  0.0  0.000000  0.428571  0.433962\n",
       "国企        0.000000  0.16  1.0  0.230769  0.142857  0.169811\n",
       "无业        0.000000  0.00  0.0  0.153846  0.000000  0.037736\n",
       "民企        0.285714  0.04  0.0  0.384615  0.285714  0.188679"
      ]
     },
     "execution_count": 12,
     "metadata": {},
     "output_type": "execute_result"
    }
   ],
   "source": [
    "mytools.制作交叉表(date,'父亲职业编码信息','母亲职业编码信息')"
   ]
  },
  {
   "cell_type": "code",
   "execution_count": 13,
   "metadata": {},
   "outputs": [
    {
     "data": {
      "text/plain": [
       "0.29546609784877914"
      ]
     },
     "execution_count": 13,
     "metadata": {},
     "output_type": "execute_result"
    }
   ],
   "source": [
    "#父母职业的相关系数计算\n",
    "tau_y = mytools.goodmanKruska_tau_y(date,'父亲职业编码信息','母亲职业编码信息')\n",
    "tau_y"
   ]
  },
  {
   "cell_type": "code",
   "execution_count": 14,
   "metadata": {},
   "outputs": [
    {
     "data": {
      "text/plain": [
       "'父母职业与其是否结婚呈现弱相关'"
      ]
     },
     "execution_count": 14,
     "metadata": {},
     "output_type": "execute_result"
    }
   ],
   "source": [
    "mytools.相关系数强弱判断(tau_y)"
   ]
  }
 ],
 "metadata": {
  "kernelspec": {
   "display_name": "base",
   "language": "python",
   "name": "python3"
  },
  "language_info": {
   "codemirror_mode": {
    "name": "ipython",
    "version": 3
   },
   "file_extension": ".py",
   "mimetype": "text/x-python",
   "name": "python",
   "nbconvert_exporter": "python",
   "pygments_lexer": "ipython3",
   "version": "3.9.7"
  }
 },
 "nbformat": 4,
 "nbformat_minor": 2
}
